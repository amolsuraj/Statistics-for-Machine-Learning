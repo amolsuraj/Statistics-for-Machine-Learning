{
 "cells": [
  {
   "cell_type": "markdown",
   "metadata": {},
   "source": [
    "# Statistics "
   ]
  },
  {
   "cell_type": "code",
   "execution_count": 1,
   "metadata": {},
   "outputs": [],
   "source": [
    "# Statistics is the study of data collection, analysis, perception, introduction, and organization. \n",
    "# It is a method of gathering and summarizing results."
   ]
  },
  {
   "cell_type": "code",
   "execution_count": 2,
   "metadata": {},
   "outputs": [
    {
     "name": "stdout",
     "output_type": "stream",
     "text": [
      "9.0\n"
     ]
    }
   ],
   "source": [
    "# With Python use the NumPy library mean() method to find the mean of the values 4,11,7,14:\n",
    "\n",
    "import numpy\n",
    "\n",
    "values = [4,11,7,14]\n",
    "\n",
    "x = numpy.mean(values)\n",
    "\n",
    "print(x)"
   ]
  },
  {
   "cell_type": "markdown",
   "metadata": {},
   "source": [
    "## Statistics gives us methods of gaining knowledge from data."
   ]
  },
  {
   "cell_type": "code",
   "execution_count": 3,
   "metadata": {},
   "outputs": [],
   "source": [
    "# What is Statistics Used for?\n",
    "\n",
    "# Statistics is used in all kinds of science and business applications.\n",
    "\n",
    "# Statistics gives us more accurate knowledge which helps us make better decisions.\n",
    "\n",
    "# Statistics can focus on making predictions about what will happen in the future. \n",
    "# It can also focus on explaining how different things are connected.\n",
    "\n",
    "# The typical steps are:\n",
    "\n",
    "#     Gathering data\n",
    "#     Describing and visualizing data\n",
    "#     Making conclusions\n"
   ]
  },
  {
   "cell_type": "markdown",
   "metadata": {},
   "source": [
    "## How is Statistics Used?"
   ]
  },
  {
   "cell_type": "code",
   "execution_count": 4,
   "metadata": {},
   "outputs": [],
   "source": [
    "# Statistics can be used to explain things in a precise way. \n",
    "# You can use it to understand and make conclusions about the group that you want to know more about. \n",
    "# This group is called the population.\n",
    "\n",
    "# A population could be many different kinds of groups. It could be:\n",
    "\n",
    "#     All of the people in a country\n",
    "#     All the businesses in an industry\n",
    "#     All the customers of a business\n",
    "#     All people that play football who are older than 45\n",
    "\n",
    "# and so on - it just depends on what you want to know about.\n",
    "# Gathering data about the population will give you a sample. \n",
    "# This is a part of the whole population. Statistical methods are then used on that sample.\n",
    "\n",
    "# The results of the statistical methods from the sample is used to make conclusions about the population.\n"
   ]
  },
  {
   "cell_type": "markdown",
   "metadata": {},
   "source": [
    "## Mean"
   ]
  },
  {
   "cell_type": "code",
   "execution_count": 5,
   "metadata": {},
   "outputs": [
    {
     "name": "stdout",
     "output_type": "stream",
     "text": [
      "9.0\n"
     ]
    }
   ],
   "source": [
    "# the mean is usually referred to as 'the average'.\n",
    "# With Python use the NumPy library mean() method to find the mean of the values 4,11,7,14:\n",
    "\n",
    "import numpy\n",
    "\n",
    "values = [4,11,7,14]\n",
    "\n",
    "x = numpy.mean(values)\n",
    "\n",
    "print(x)"
   ]
  },
  {
   "cell_type": "markdown",
   "metadata": {},
   "source": [
    "## Median"
   ]
  },
  {
   "cell_type": "code",
   "execution_count": 6,
   "metadata": {},
   "outputs": [
    {
     "name": "stdout",
     "output_type": "stream",
     "text": [
      "41.0\n"
     ]
    }
   ],
   "source": [
    "# The median is the middle value in a data set ordered from low to high.\n",
    "# It is important that the numbers are ordered before you can find the median.\n",
    "# With Python use the NumPy library median() method to find the median of the values 13, 21, 21, 40, 42, 48, 55, 72:\n",
    "\n",
    "import numpy\n",
    "\n",
    "values = [13,21,21,40,42,48,55,72]\n",
    "\n",
    "x = numpy.median(values)\n",
    "\n",
    "print(x)"
   ]
  },
  {
   "cell_type": "markdown",
   "metadata": {},
   "source": [
    "## Mode"
   ]
  },
  {
   "cell_type": "code",
   "execution_count": 7,
   "metadata": {},
   "outputs": [],
   "source": [
    "# The mode is a type of average value, which describes where most of the data is located.\n",
    "# A distribution of values with only one mode is called unimodal.\n",
    "\n",
    "# A distribution of values with two modes is called bimodal. In general, a distribution with more than one mode is called multimodal.\n",
    "\n",
    "# Mode can be found for both categorical and numerical data.\n",
    "\n",
    "# Here is a numerical example:\n",
    "\n",
    "# 4, 7, 3, 8, 11, 7, 10, 19, 6, 9, 12, 12\n",
    "\n",
    "# Both 7 and 12 appears two times each, and the other values only once. The modes of this data is 7 and 12.\n",
    "\n",
    "# Here is a categorical example with names:\n",
    "\n",
    "# Alice, John, Bob, Maria, John, Julia, Carol\n",
    "\n",
    "# John appears two times, and the other values only once. The mode of this data is John.\n",
    "\n",
    "# With Python use the statistics library multimode() method to find the modes of the values\n",
    "# 4,7,3,8,11,7,10,19,6,9,12,12:\n",
    "\n"
   ]
  },
  {
   "cell_type": "code",
   "execution_count": 8,
   "metadata": {},
   "outputs": [
    {
     "name": "stdout",
     "output_type": "stream",
     "text": [
      "Requirement already satisfied: statistics in c:\\programdata\\anaconda3\\lib\\site-packages (1.0.3.5)\n",
      "Requirement already satisfied: docutils>=0.3 in c:\\programdata\\anaconda3\\lib\\site-packages (from statistics) (0.16)\n"
     ]
    }
   ],
   "source": [
    "!pip install statistics"
   ]
  },
  {
   "cell_type": "code",
   "execution_count": 9,
   "metadata": {},
   "outputs": [
    {
     "name": "stdout",
     "output_type": "stream",
     "text": [
      "7\n"
     ]
    }
   ],
   "source": [
    "import statistics as stat\n",
    "values = [4,7,3,8,11,7,10,19,6,9,12]\n",
    "x = stat.mode(values)\n",
    "print(x)"
   ]
  },
  {
   "cell_type": "markdown",
   "metadata": {},
   "source": [
    "## Statistics - Range"
   ]
  },
  {
   "cell_type": "code",
   "execution_count": 10,
   "metadata": {},
   "outputs": [
    {
     "name": "stdout",
     "output_type": "stream",
     "text": [
      "59\n"
     ]
    }
   ],
   "source": [
    "# The range is a measure of variation, which describes how spread out the data is.\n",
    "# The range is the difference between the smallest and the largest value of the data.\n",
    "# Range is the simplest measure of variation.\n",
    "# With Python use the NumPy library ptp() method to find the range of the values 13, 21, 21, 40, 48, 55, 72:\n",
    "\n",
    "import numpy\n",
    "\n",
    "values = [13,21,21,40,48,55,72]\n",
    "\n",
    "x = numpy.ptp(values)\n",
    "\n",
    "print(x)\n"
   ]
  },
  {
   "cell_type": "markdown",
   "metadata": {},
   "source": [
    "## Statistics - Quartiles and Percentiles"
   ]
  },
  {
   "cell_type": "code",
   "execution_count": 11,
   "metadata": {},
   "outputs": [
    {
     "name": "stdout",
     "output_type": "stream",
     "text": [
      "[13.   21.   41.   49.75 72.  ]\n"
     ]
    }
   ],
   "source": [
    "# Quartiles and percentiles are a measures of variation, which describes how spread out the data is.\n",
    "# Quartiles are values that separate the data into four equal parts.\n",
    "# Quartiles and percentiles are both types of quantiles.\n",
    "# With Python use the NumPy library quantile() method to find the quartiles of the values \n",
    "# 13, 21, 21, 40, 42, 48, 55, 72:\n",
    "\n",
    "import numpy\n",
    "\n",
    "values = [13,21,21,40,42,48,55,72]\n",
    "\n",
    "x = numpy.quantile(values, [0,0.25,0.5,0.75,1])\n",
    "\n",
    "print(x)"
   ]
  },
  {
   "cell_type": "markdown",
   "metadata": {},
   "source": [
    "## Statistics - Interquartile Range"
   ]
  },
  {
   "cell_type": "code",
   "execution_count": 12,
   "metadata": {},
   "outputs": [
    {
     "name": "stdout",
     "output_type": "stream",
     "text": [
      "28.75\n"
     ]
    }
   ],
   "source": [
    "# Interquartile range is a measure of variation, which describes how spread out the data is.\n",
    "# With Python use the SciPy library iqr() method to find the interquartile range of the values\n",
    "# 13, 21, 21, 40, 42, 48, 55, 72:\n",
    "from scipy import stats\n",
    "\n",
    "values = [13,21,21,40,42,48,55,72]\n",
    "\n",
    "x = stats.iqr(values)\n",
    "\n",
    "print(x)"
   ]
  },
  {
   "cell_type": "markdown",
   "metadata": {},
   "source": [
    "## Statistics - Standard Deviation"
   ]
  },
  {
   "cell_type": "code",
   "execution_count": 13,
   "metadata": {},
   "outputs": [
    {
     "name": "stdout",
     "output_type": "stream",
     "text": [
      "3.8078865529319543\n"
     ]
    }
   ],
   "source": [
    "# Standard deviation is the most commonly used measure of variation, which describes how spread out the data is.\n",
    "# With Python use the NumPy library std() method to find the standard deviation of the values 4,11,7,14:\n",
    "\n",
    "import numpy\n",
    "\n",
    "values = [4,11,7,14]\n",
    "\n",
    "x = numpy.std(values)\n",
    "\n",
    "print(x)"
   ]
  }
 ],
 "metadata": {
  "kernelspec": {
   "display_name": "Python 3",
   "language": "python",
   "name": "python3"
  },
  "language_info": {
   "codemirror_mode": {
    "name": "ipython",
    "version": 3
   },
   "file_extension": ".py",
   "mimetype": "text/x-python",
   "name": "python",
   "nbconvert_exporter": "python",
   "pygments_lexer": "ipython3",
   "version": "3.7.6"
  }
 },
 "nbformat": 4,
 "nbformat_minor": 4
}
